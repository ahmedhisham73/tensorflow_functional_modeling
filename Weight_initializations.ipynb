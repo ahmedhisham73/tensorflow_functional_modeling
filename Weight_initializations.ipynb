{
  "nbformat": 4,
  "nbformat_minor": 0,
  "metadata": {
    "colab": {
      "provenance": [],
      "authorship_tag": "ABX9TyPtFbQB6+ToBJzY8Edind6j",
      "include_colab_link": true
    },
    "kernelspec": {
      "name": "python3",
      "display_name": "Python 3"
    },
    "language_info": {
      "name": "python"
    },
    "accelerator": "GPU",
    "gpuClass": "standard"
  },
  "cells": [
    {
      "cell_type": "markdown",
      "metadata": {
        "id": "view-in-github",
        "colab_type": "text"
      },
      "source": [
        "<a href=\"https://colab.research.google.com/github/ahmedhisham73/tensorflow_functional_modeling/blob/main/Weight_initializations.ipynb\" target=\"_parent\"><img src=\"https://colab.research.google.com/assets/colab-badge.svg\" alt=\"Open In Colab\"/></a>"
      ]
    },
    {
      "cell_type": "markdown",
      "source": [
        "#implementing quadratic relationship between output y and input x \n",
        "#where y=ax+bx+c"
      ],
      "metadata": {
        "id": "2ZCXjcRnqX9i"
      }
    },
    {
      "cell_type": "code",
      "source": [
        "import tensorflow as tf\n",
        "from tensorflow.keras.layers import Layer\n",
        "\n"
      ],
      "metadata": {
        "id": "nfPIU-qSqmLb"
      },
      "execution_count": 4,
      "outputs": []
    },
    {
      "cell_type": "code",
      "source": [
        "from tensorflow.keras.layers import Layer , Dense, Flatten , Lambda\n",
        "from tensorflow.keras.models import Sequential\n",
        "from tensorflow.keras.datasets import mnist\n",
        "from tensorflow.nn import softmax , relu\n",
        "from tensorflow.keras.losses import categorical_crossentropy\n",
        "from tensorflow.keras.optimizers import RMSprop\n",
        "import tensorflow.keras.backend as k\n",
        "\n",
        "import numpy as np\n",
        "     "
      ],
      "metadata": {
        "id": "-3_BhDzEqmrW"
      },
      "execution_count": 5,
      "outputs": []
    },
    {
      "cell_type": "markdown",
      "source": [
        "#using Xavier initilization for the weights"
      ],
      "metadata": {
        "id": "YUu_VeGpwe4i"
      }
    },
    {
      "cell_type": "code",
      "source": [
        "class simple_dense(Layer):\n",
        "    def __init__(self,units=32):\n",
        "        super(simple_dense,self).__init__()\n",
        "        self.units=units\n",
        "    def build(self,input_shape):\n",
        "        #xavier initializations for w , and 0 for bias\n",
        "        w_init= tf.keras.initializers.GlorotNormal(seed=None)\n",
        "        self.w = tf.Variable(name = \"kernal or Weight\" , \n",
        "                             initial_value = w_init(shape = (input_shape[-1] , self.units) , dtype=\"float32\") , \n",
        "                             trainable=True )\n",
        "        b_init= tf.keras.initializers.Zeros()\n",
        "        self.b = tf.Variable(name = \"bias\",\n",
        "                             initial_value = b_init(shape = (self.units) , dtype = \"float32\") ,\n",
        "                             trainable=True)\n",
        "    def call(self , inputs):\n",
        "        return tf.matmul(inputs , self.w) + self.b\n"
      ],
      "metadata": {
        "id": "2UqhHfIltgZK"
      },
      "execution_count": 6,
      "outputs": []
    },
    {
      "cell_type": "code",
      "source": [
        "dense = simple_dense(units = 1)\n",
        "dense.variables"
      ],
      "metadata": {
        "colab": {
          "base_uri": "https://localhost:8080/"
        },
        "id": "gE0opRiFvEjK",
        "outputId": "57ac8059-7a3e-41dd-db6f-932c985d080f"
      },
      "execution_count": 7,
      "outputs": [
        {
          "output_type": "execute_result",
          "data": {
            "text/plain": [
              "[]"
            ]
          },
          "metadata": {},
          "execution_count": 7
        }
      ]
    },
    {
      "cell_type": "code",
      "source": [
        "(train_data , train_label) , (test_data , test_label) = mnist.load_data()\n",
        "\n",
        "train_data = train_data / 255.0\n",
        "test_data  = test_data  / 255.0\n",
        "\n",
        "train_label = tf.keras.utils.to_categorical(train_label)\n",
        "test_label  = tf.keras.utils.to_categorical(test_label)\n",
        "     "
      ],
      "metadata": {
        "colab": {
          "base_uri": "https://localhost:8080/"
        },
        "id": "4RPIvv1ju4XK",
        "outputId": "3b8f6a7e-f29c-49f9-ef9a-097fe30606e7"
      },
      "execution_count": 8,
      "outputs": [
        {
          "output_type": "stream",
          "name": "stdout",
          "text": [
            "Downloading data from https://storage.googleapis.com/tensorflow/tf-keras-datasets/mnist.npz\n",
            "11490434/11490434 [==============================] - 0s 0us/step\n"
          ]
        }
      ]
    },
    {
      "cell_type": "code",
      "source": [
        "\n",
        "def plot_his(h):\n",
        "  history = h.history\n",
        "  f , ax = plt.subplots(1,2,figsize=(16,5))\n",
        "  ax[0].plot(history['acc'] , label=\"train\")\n",
        "  ax[0].plot(history['val_acc'] , label=\"test\")\n",
        "  ax[0].legend()\n",
        "\n",
        "  ax[1].plot(history['loss'] , label=\"train\")\n",
        "  ax[1].plot(history['val_loss'] , label=\"test\")\n",
        "  ax[1].legend()\n",
        "     "
      ],
      "metadata": {
        "id": "VjnCLSz_vTBi"
      },
      "execution_count": 9,
      "outputs": []
    },
    {
      "cell_type": "code",
      "source": [
        "model_simpledense = Sequential([\n",
        "    Flatten(input_shape=(28,28)),\n",
        "    simple_dense(128),\n",
        "    Dense(10 , activation = softmax)\n",
        "])\n",
        "model_simpledense.compile(loss = categorical_crossentropy , optimizer = RMSprop() , metrics = ['acc'])\n",
        "model_simpledense.fit(train_data , train_label , epochs = 5)\n",
        "model_simpledense.evaluate(test_data , test_label)\n",
        "     "
      ],
      "metadata": {
        "colab": {
          "base_uri": "https://localhost:8080/"
        },
        "id": "_lv9dho9vWhB",
        "outputId": "e54e0224-f2f4-4f2d-b87a-f35c9914bacf"
      },
      "execution_count": 10,
      "outputs": [
        {
          "output_type": "stream",
          "name": "stdout",
          "text": [
            "Epoch 1/5\n",
            "1875/1875 [==============================] - 9s 3ms/step - loss: 0.3596 - acc: 0.8979\n",
            "Epoch 2/5\n",
            "1875/1875 [==============================] - 6s 3ms/step - loss: 0.3049 - acc: 0.9159\n",
            "Epoch 3/5\n",
            "1875/1875 [==============================] - 5s 3ms/step - loss: 0.2944 - acc: 0.9193\n",
            "Epoch 4/5\n",
            "1875/1875 [==============================] - 5s 3ms/step - loss: 0.2888 - acc: 0.9212\n",
            "Epoch 5/5\n",
            "1875/1875 [==============================] - 5s 3ms/step - loss: 0.2832 - acc: 0.9221\n",
            "313/313 [==============================] - 1s 3ms/step - loss: 0.2862 - acc: 0.9211\n"
          ]
        },
        {
          "output_type": "execute_result",
          "data": {
            "text/plain": [
              "[0.28621968626976013, 0.9211000204086304]"
            ]
          },
          "metadata": {},
          "execution_count": 10
        }
      ]
    },
    {
      "cell_type": "markdown",
      "source": [
        "#using Random normal distribution for the Weights"
      ],
      "metadata": {
        "id": "_MBfJCWwwoVi"
      }
    },
    {
      "cell_type": "code",
      "source": [
        "class simple_dense_normal(Layer):\n",
        "    def __init__(self,units=32):\n",
        "        super(simple_dense_normal,self).__init__()\n",
        "        self.units=units\n",
        "    def build(self,input_shape):\n",
        "        #normal distribution initializations for w , and 0 for bias\n",
        "        w_init= tf.keras.initializers.RandomNormal(mean=0.0, stddev=0.05, seed=None)\n",
        "        self.w = tf.Variable(name = \"kernal or Weight\" , \n",
        "                             initial_value = w_init(shape = (input_shape[-1] , self.units) , dtype=\"float32\") , \n",
        "                             trainable=True )\n",
        "        b_init= tf.keras.initializers.Zeros()\n",
        "        self.b = tf.Variable(name = \"bias\",\n",
        "                             initial_value = b_init(shape = (self.units) , dtype = \"float32\") ,\n",
        "                             trainable=True)\n",
        "    def call(self , inputs):\n",
        "        return tf.matmul(inputs , self.w) + self.b"
      ],
      "metadata": {
        "id": "qMjsuLJOvtk4"
      },
      "execution_count": 12,
      "outputs": []
    },
    {
      "cell_type": "code",
      "source": [
        "model_simple_dense = Sequential([\n",
        "    Flatten(input_shape=(28,28)),\n",
        "    simple_dense_normal(128),\n",
        "    Dense(10 , activation = softmax)\n",
        "])\n",
        "model_simple_dense.compile(loss = categorical_crossentropy , optimizer = RMSprop() , metrics = ['acc'])\n",
        "model_simple_dense.fit(train_data , train_label , epochs = 5)\n",
        "model_simple_dense.evaluate(test_data , test_label)"
      ],
      "metadata": {
        "colab": {
          "base_uri": "https://localhost:8080/"
        },
        "id": "Cb6fJieBwFRz",
        "outputId": "450d9094-4c4f-4aea-9efa-dfb2f17196b1"
      },
      "execution_count": 13,
      "outputs": [
        {
          "output_type": "stream",
          "name": "stdout",
          "text": [
            "Epoch 1/5\n",
            "1875/1875 [==============================] - 6s 3ms/step - loss: 0.3653 - acc: 0.8955\n",
            "Epoch 2/5\n",
            "1875/1875 [==============================] - 6s 3ms/step - loss: 0.3064 - acc: 0.9155\n",
            "Epoch 3/5\n",
            "1875/1875 [==============================] - 5s 3ms/step - loss: 0.2946 - acc: 0.9185\n",
            "Epoch 4/5\n",
            "1875/1875 [==============================] - 5s 3ms/step - loss: 0.2871 - acc: 0.9210\n",
            "Epoch 5/5\n",
            "1875/1875 [==============================] - 5s 3ms/step - loss: 0.2834 - acc: 0.9226\n",
            "313/313 [==============================] - 1s 2ms/step - loss: 0.2912 - acc: 0.9194\n"
          ]
        },
        {
          "output_type": "execute_result",
          "data": {
            "text/plain": [
              "[0.29116198420524597, 0.9193999767303467]"
            ]
          },
          "metadata": {},
          "execution_count": 13
        }
      ]
    },
    {
      "cell_type": "code",
      "source": [],
      "metadata": {
        "id": "m6KxaCsjwRY4"
      },
      "execution_count": null,
      "outputs": []
    },
    {
      "cell_type": "markdown",
      "source": [
        "#Xavier initialization outperformed the Random Normal Distribution "
      ],
      "metadata": {
        "id": "5puXVEKBwuDy"
      }
    },
    {
      "cell_type": "code",
      "source": [],
      "metadata": {
        "id": "DRAx-eFGw1f3"
      },
      "execution_count": null,
      "outputs": []
    }
  ]
}